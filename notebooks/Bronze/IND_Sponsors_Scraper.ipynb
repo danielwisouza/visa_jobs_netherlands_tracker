{
 "cells": [
  {
   "cell_type": "markdown",
   "metadata": {
    "application/vnd.databricks.v1+cell": {
     "cellMetadata": {},
     "inputWidgets": {},
     "nuid": "1a8ce903-759c-4a44-9ca6-68c08207e068",
     "showTitle": false,
     "tableResultSettingsMap": {},
     "title": ""
    }
   },
   "source": [
    "# DETAILS\n",
    "\n",
    "**Project Name:** Visa Jobs NL\n",
    "\n",
    "**Description:** Notebook to collect, process, and analyze job listings related to visa sponsorship opportunities in the Netherlands.\n",
    "\n",
    "**Author(s):**  \n",
    "+ Daniel Willians <daniel.wis@outlook.com>\n",
    "\n",
    "\n",
    "**Start Date (YYYY-MM-DD):** 2025-05-27\n",
    "\n",
    "**Version:** 1.0.0"
   ]
  },
  {
   "cell_type": "code",
   "execution_count": 0,
   "metadata": {
    "application/vnd.databricks.v1+cell": {
     "cellMetadata": {
      "byteLimit": 2048000,
      "rowLimit": 10000
     },
     "inputWidgets": {},
     "nuid": "9f16b665-301c-4198-8ca3-94aff45d040f",
     "showTitle": false,
     "tableResultSettingsMap": {},
     "title": ""
    }
   },
   "outputs": [],
   "source": [
    "import pandas as pd\n",
    "import requests\n",
    "\n",
    "# URL da tabela no site da IND\n",
    "url = \"https://ind.nl/en/public-register-recognised-sponsors/public-register-regular-labour-and-highly-skilled-migrants\"\n",
    "\n",
    "# Requisição HTTP para capturar a página\n",
    "response = requests.get(url)\n",
    "\n",
    "# Verifica se o conteúdo foi redirecionado\n",
    "if \"iframe\" in response.text:\n",
    "    from bs4 import BeautifulSoup\n",
    "\n",
    "    soup = BeautifulSoup(response.text, \"html.parser\")\n",
    "    iframe_url = soup.find(\"iframe\")[\"src\"]\n",
    "\n",
    "    # Acessa o conteúdo real da tabela via iframe\n",
    "    iframe_response = requests.get(iframe_url)\n",
    "    tables = pd.read_html(iframe_response.text)\n",
    "\n",
    "    # A maioria das vezes, a primeira tabela é a correta\n",
    "    df = tables[0]\n",
    "else:\n",
    "    tables = pd.read_html(response.text)\n",
    "    df = tables[0]\n",
    "\n",
    "# Visualiza o resultado\n",
    "display(df)\n"
   ]
  }
 ],
 "metadata": {
  "application/vnd.databricks.v1+notebook": {
   "computePreferences": null,
   "dashboards": [],
   "environmentMetadata": {
    "base_environment": "",
    "environment_version": "2"
   },
   "inputWidgetPreferences": null,
   "language": "python",
   "notebookMetadata": {
    "pythonIndentUnit": 4
   },
   "notebookName": "IND_Sponsors_Scraper",
   "widgets": {}
  },
  "language_info": {
   "name": "python"
  }
 },
 "nbformat": 4,
 "nbformat_minor": 0
}
