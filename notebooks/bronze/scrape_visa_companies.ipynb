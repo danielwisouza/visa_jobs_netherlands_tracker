{
 "cells": [
  {
   "cell_type": "markdown",
   "metadata": {
    "application/vnd.databricks.v1+cell": {
     "cellMetadata": {
      "byteLimit": 2048000,
      "rowLimit": 10000
     },
     "inputWidgets": {},
     "nuid": "1a8ce903-759c-4a44-9ca6-68c08207e068",
     "showTitle": false,
     "tableResultSettingsMap": {},
     "title": ""
    }
   },
   "source": [
    "# DETAILS\n",
    "\n",
    "**Project Name:** Visa Jobs NL\n",
    "\n",
    "**Description:** Notebook to collect, process, and analyze job listings related to visa sponsorship opportunities in the Netherlands.\n",
    "\n",
    "**Author(s):**  \n",
    "+ Daniel Willians <daniel.wis@outlook.com>\n",
    "\n",
    "\n",
    "**Start Date (YYYY-MM-DD):** 2025-05-27\n",
    "\n",
    "**Version:** 1.0.0"
   ]
  },
  {
   "cell_type": "code",
   "execution_count": 0,
   "metadata": {
    "application/vnd.databricks.v1+cell": {
     "cellMetadata": {
      "byteLimit": 2048000,
      "rowLimit": 10000
     },
     "inputWidgets": {},
     "nuid": "be83d26e-bbb5-42f2-9633-90d4081ebb22",
     "showTitle": false,
     "tableResultSettingsMap": {},
     "title": ""
    }
   },
   "outputs": [],
   "source": [
    "%pip install lxml beautifulsoup4 \n"
   ]
  },
  {
   "cell_type": "code",
   "execution_count": 0,
   "metadata": {
    "application/vnd.databricks.v1+cell": {
     "cellMetadata": {
      "byteLimit": 2048000,
      "rowLimit": 10000
     },
     "inputWidgets": {},
     "nuid": "9f16b665-301c-4198-8ca3-94aff45d040f",
     "showTitle": false,
     "tableResultSettingsMap": {},
     "title": ""
    }
   },
   "outputs": [],
   "source": [
    "from bs4 import BeautifulSoup\n",
    "import pandas as pd\n",
    "import requests\n",
    "from pyspark.sql import SparkSession\n",
    "from pyspark.sql.functions import current_date\n",
    "\n",
    "\n",
    "spark = SparkSession.builder.getOrCreate()\n",
    "\n",
    "def get_ind_data():\n",
    "    url = \"https://ind.nl/en/public-register-recognised-sponsors/public-register-regular-labour-and-highly-skilled-migrants\"\n",
    "    response = requests.get(url)\n",
    "\n",
    "    if \"iframe\" in response.text:\n",
    "        soup = BeautifulSoup(response.text, \"html.parser\")\n",
    "        iframe_url = soup.find(\"iframe\")[\"src\"]\n",
    "        iframe_response = requests.get(iframe_url)\n",
    "        tables = pd.read_html(iframe_response.text)\n",
    "    else:\n",
    "        tables = pd.read_html(response.text)\n",
    "    \n",
    "    df = tables[0]\n",
    "    return df\n",
    "\n",
    "pdf = get_ind_data()\n",
    "\n",
    "df = spark.createDataFrame(pdf)\n",
    "\n",
    "df = df.withColumn(\"load_date\", current_date())\n",
    "\n",
    "bronze_path = \"/mnt/netherlands-tracker/bronze/company_skilled_migrants\"\n",
    "\n",
    "(df.write\n",
    "   .mode(\"overwrite\")\n",
    "   .partitionBy(\"load_date\")\n",
    "   .parquet(bronze_path)\n",
    ")\n",
    "\n",
    "print(\"✅ Dados salvos em bronze/company_skilled_migrants com partição load_date\")"
   ]
  },
  {
   "cell_type": "code",
   "execution_count": 0,
   "metadata": {
    "application/vnd.databricks.v1+cell": {
     "cellMetadata": {
      "byteLimit": 2048000,
      "rowLimit": 10000
     },
     "inputWidgets": {},
     "nuid": "df9dca57-eec0-4d7a-9520-95a517ed0c4e",
     "showTitle": false,
     "tableResultSettingsMap": {},
     "title": ""
    }
   },
   "outputs": [],
   "source": [
    "df = spark.read.parquet(bronze_path)\n",
    "display(df)"
   ]
  }
 ],
 "metadata": {
  "application/vnd.databricks.v1+notebook": {
   "computePreferences": null,
   "dashboards": [],
   "environmentMetadata": {
    "base_environment": "",
    "environment_version": "2"
   },
   "inputWidgetPreferences": null,
   "language": "python",
   "notebookMetadata": {
    "pythonIndentUnit": 4
   },
   "notebookName": "scrape_visa_companies",
   "widgets": {}
  },
  "language_info": {
   "name": "python"
  }
 },
 "nbformat": 4,
 "nbformat_minor": 0
}
