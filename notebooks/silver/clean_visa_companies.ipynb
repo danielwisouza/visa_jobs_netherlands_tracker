{
 "cells": [
  {
   "cell_type": "code",
   "execution_count": 0,
   "metadata": {
    "application/vnd.databricks.v1+cell": {
     "cellMetadata": {
      "byteLimit": 2048000,
      "rowLimit": 10000
     },
     "inputWidgets": {},
     "nuid": "a2d6f9a2-8617-4420-8588-a480fcbd3d43",
     "showTitle": false,
     "tableResultSettingsMap": {},
     "title": ""
    }
   },
   "outputs": [],
   "source": [
    "from pyspark.sql.functions import current_timestamp\n",
    "from pyspark.sql.types import StringType\n",
    "import re\n",
    "from pyspark.sql import functions as F\n",
    "\n",
    "# Defina database e paths\n",
    "database_name = \"visa_jobs_silver\"  # pode ser criado antes no UC\n",
    "silver_table_name = \"company_skilled_migrants\"\n",
    "bronze_path = \"/mnt/netherlands-tracker/bronze/company_skilled_migrants\"\n",
    "\n",
    "# Leitura bronze\n",
    "df_bronze = spark.read.parquet(bronze_path)\n",
    "\n",
    "# Função de limpeza do nome da empresa\n",
    "def clean_company_name(name):\n",
    "    if not name:\n",
    "        return None\n",
    "    name = name.strip()\n",
    "    name = re.sub(r\"[^a-zA-Z0-9&\\s\\.]\", \"\", name)\n",
    "    name = name.replace(\"B.V.\", \"BV\").replace(\"B.V\", \"BV\").replace(\"N.V.\", \"NV\").replace(\"N.V\", \"NV\")\n",
    "    name = re.sub(r\"\\s+\", \" \", name)\n",
    "    name = re.sub(r\"\\s+(BV|NV)$\", \"\", name, flags=re.IGNORECASE)\n",
    "    name = name.lower()\n",
    "    return name\n",
    "\n",
    "clean_company_name_udf = F.udf(clean_company_name, StringType())\n",
    "\n",
    "# Aplica limpeza e adiciona timestamp de ingestão\n",
    "df_clean = (df_bronze\n",
    "    .withColumn(\"company_clean\", clean_company_name_udf(F.col(\"Organisation\"))).withColumnRenamed(\"KvK number\", \"KvK_number\")\n",
    "\n",
    "    .withColumn(\"silver_ingestion_ts\", current_timestamp())\n",
    ")\n",
    "\n",
    "# Remove a coluna KvK number\n",
    "df_clean = df_clean.drop(\"KvK_number\")\n",
    "\n",
    "# Remove duplicados\n",
    "df_clean = df_clean.dropDuplicates([\"company_clean\"])\n",
    "\n",
    "# Mostra resultado para conferência\n",
    "df_clean.select(\"Organisation\", \"company_clean\", \"load_date\").show(10, truncate=False)\n",
    "\n",
    "# Salva como tabela Delta \n",
    "df_clean.write.format(\"delta\") \\\n",
    "    .mode(\"overwrite\") \\\n",
    "    .option(\"mergeSchema\", \"true\") \\\n",
    "    .saveAsTable(f\"{database_name}.{silver_table_name}\")"
   ]
  },
  {
   "cell_type": "code",
   "execution_count": 0,
   "metadata": {
    "application/vnd.databricks.v1+cell": {
     "cellMetadata": {
      "byteLimit": 2048000,
      "rowLimit": 10000
     },
     "inputWidgets": {},
     "nuid": "2dfd1495-5005-4492-a921-13c056a27e69",
     "showTitle": false,
     "tableResultSettingsMap": {},
     "title": ""
    }
   },
   "outputs": [],
   "source": [
    "# Confirmação\n",
    "row_count = spark.table(f\"{database_name}.{silver_table_name}\").count()\n",
    "print(f\"Tabela {database_name}.{silver_table_name} criada com sucesso - QTDE de linhas: {row_count}\")"
   ]
  },
  {
   "cell_type": "code",
   "execution_count": 0,
   "metadata": {
    "application/vnd.databricks.v1+cell": {
     "cellMetadata": {
      "byteLimit": 2048000,
      "implicitDf": true,
      "rowLimit": 10000
     },
     "inputWidgets": {},
     "nuid": "557fb088-b772-490f-97e5-ec3e365e940d",
     "showTitle": false,
     "tableResultSettingsMap": {},
     "title": ""
    }
   },
   "outputs": [],
   "source": [
    "%sql\n",
    "SELECT company_clean FROM visa_jobs_silver.company_skilled_migrants LIMIT 100"
   ]
  }
 ],
 "metadata": {
  "application/vnd.databricks.v1+notebook": {
   "computePreferences": null,
   "dashboards": [],
   "environmentMetadata": {
    "base_environment": "",
    "environment_version": "2"
   },
   "inputWidgetPreferences": null,
   "language": "python",
   "notebookMetadata": {
    "mostRecentlyExecutedCommandWithImplicitDF": {
     "commandId": 7567108878580846,
     "dataframes": [
      "_sqldf"
     ]
    },
    "pythonIndentUnit": 4
   },
   "notebookName": "clean_visa_companies",
   "widgets": {}
  },
  "language_info": {
   "name": "python"
  }
 },
 "nbformat": 4,
 "nbformat_minor": 0
}
