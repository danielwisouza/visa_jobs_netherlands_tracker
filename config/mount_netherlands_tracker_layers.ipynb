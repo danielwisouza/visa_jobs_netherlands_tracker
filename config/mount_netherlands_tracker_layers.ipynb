{
 "cells": [
  {
   "cell_type": "markdown",
   "metadata": {
    "application/vnd.databricks.v1+cell": {
     "cellMetadata": {},
     "inputWidgets": {},
     "nuid": "1a3490be-1d3f-4b50-bd9b-d541bf2db7b4",
     "showTitle": false,
     "tableResultSettingsMap": {},
     "title": ""
    }
   },
   "source": [
    "# DETAILS\n",
    "\n",
    "**Project Name:** Visa Jobs NL\n",
    "\n",
    "**Description:** Notebook to collect, process, and analyze job listings related to visa sponsorship opportunities in the Netherlands.  \n",
    "\n",
    "It performs the mounting of Azure Data Lake Storage containers for bronze, silver, and gold data layers,  \n",
    "extracts raw job listing data, transforms it into clean and structured formats, and prepares the data for further analytics and visualization.\n",
    "\n",
    "**Author(s):**  \n",
    "+ Daniel Willians <daniel.wis@outlook.com>\n",
    "\n",
    "**Start Date (YYYY-MM-DD):** 2025-05-27\n",
    "\n",
    "**Version:** 1.0.0\n"
   ]
  },
  {
   "cell_type": "markdown",
   "metadata": {
    "application/vnd.databricks.v1+cell": {
     "cellMetadata": {},
     "inputWidgets": {},
     "nuid": "f6ba5c61-fe46-432e-b70b-5aa7a2cfe2e9",
     "showTitle": false,
     "tableResultSettingsMap": {},
     "title": ""
    }
   },
   "source": [
    "# Assign Role to Service Principal in Azure Key Vault\n",
    "\n",
    "Para conceder a permissão de **Key Vault Secrets User** a um Service Principal em um cofre de chaves (Key Vault), use o comando `az role assignment create` do Azure CLI.\n",
    "\n",
    "## Comando utilizado\n",
    "\n",
    "```bash\n",
    "az role assignment create \\\\\n",
    "  --assignee-object-id <OBJECT_ID_DO_SERVICE_PRINCIPAL> \\\\\n",
    "  --assignee-principal-type ServicePrincipal \\\\\n",
    "  --role \"Key Vault Secrets User\" \\\\\n",
    "  --scope /subscriptions/<SUBSCRIPTION_ID>/resourceGroups/<RESOURCE_GROUP>/providers/Microsoft.KeyVault/vaults/<KEYVAULT_NAME>\n",
    "```\n",
    "###Explicação\n",
    "*assignee-object-id*: ID do Service Principal que receberá a permissão.\n",
    "\n",
    "*assignee-principal-type*: Tipo do principal, aqui especificado como ServicePrincipal.\n",
    "\n",
    "*role*: Nome da role a ser atribuída (neste caso, Key Vault Secrets User).\n",
    "\n",
    "*scope*: Escopo onde a permissão será aplicada — o recurso do Key Vault.\n",
    "\n"
   ]
  },
  {
   "cell_type": "code",
   "execution_count": 0,
   "metadata": {
    "application/vnd.databricks.v1+cell": {
     "cellMetadata": {
      "byteLimit": 2048000,
      "rowLimit": 10000
     },
     "inputWidgets": {},
     "nuid": "2de97411-002a-439d-8395-2419cd3daa40",
     "showTitle": false,
     "tableResultSettingsMap": {},
     "title": ""
    }
   },
   "outputs": [],
   "source": [
    "# Configurações principais\n",
    "storage_account = dbutils.secrets.get(scope=\"kv-estudo-prod-scope\", key=\"sas-token-datalake-name\") \n",
    "container = \"netherlands-tracker\"\n",
    "storage_key = dbutils.secrets.get(scope=\"kv-estudo-prod-scope\", key=\"sas-token-datalake-key\") \n",
    "\n",
    "# Lista de camadas a montar\n",
    "layers = [\"bronze\", \"silver\", \"gold\"]\n",
    "\n",
    "for layer in layers:\n",
    "    mount_point = f\"/mnt/{container}/{layer}\"\n",
    "    source = f\"wasbs://{container}@{storage_account}.blob.core.windows.net/{layer}\"\n",
    "\n",
    "    # Desmontar se já estiver montado\n",
    "    if any(mount.mountPoint == mount_point for mount in dbutils.fs.mounts()):\n",
    "        print(f\"Unmounting existing mount at {mount_point}...\")\n",
    "        dbutils.fs.unmount(mount_point)\n",
    "\n",
    "    # Montar\n",
    "    try:\n",
    "        print(f\"Mounting {layer} layer at {mount_point}...\")\n",
    "        dbutils.fs.mount(\n",
    "            source=source,\n",
    "            mount_point=mount_point,\n",
    "            extra_configs={\n",
    "                f\"fs.azure.account.key.{storage_account}.blob.core.windows.net\": storage_key\n",
    "            }\n",
    "        )\n",
    "        print(f\"✅ {layer.capitalize()} mounted successfully at {mount_point}\")\n",
    "    except Exception as e:\n",
    "        print(f\"❌ Failed to mount {layer}: {e}\")"
   ]
  },
  {
   "cell_type": "code",
   "execution_count": 0,
   "metadata": {
    "application/vnd.databricks.v1+cell": {
     "cellMetadata": {
      "byteLimit": 2048000,
      "rowLimit": 10000
     },
     "inputWidgets": {},
     "nuid": "bffdf474-39f1-45f1-a8e3-0c545dd4d460",
     "showTitle": false,
     "tableResultSettingsMap": {},
     "title": ""
    }
   },
   "outputs": [],
   "source": [
    "for mount in dbutils.fs.mounts():\n",
    "    if mount.mountPoint.startswith(\"/mnt/\"):\n",
    "        print(mount.mountPoint, \"->\", mount.source)"
   ]
  }
 ],
 "metadata": {
  "application/vnd.databricks.v1+notebook": {
   "computePreferences": null,
   "dashboards": [],
   "environmentMetadata": {
    "base_environment": "",
    "environment_version": "2"
   },
   "inputWidgetPreferences": null,
   "language": "python",
   "notebookMetadata": {
    "pythonIndentUnit": 4
   },
   "notebookName": "mount_netherlands_tracker_layers",
   "widgets": {}
  },
  "language_info": {
   "name": "python"
  }
 },
 "nbformat": 4,
 "nbformat_minor": 0
}
