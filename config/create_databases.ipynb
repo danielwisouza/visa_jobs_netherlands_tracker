{
 "cells": [
  {
   "cell_type": "markdown",
   "metadata": {
    "application/vnd.databricks.v1+cell": {
     "cellMetadata": {},
     "inputWidgets": {},
     "nuid": "19f4ff2b-a889-474d-a5b3-204dbc8428ba",
     "showTitle": false,
     "tableResultSettingsMap": {},
     "title": ""
    }
   },
   "source": [
    "# DETAILS\n",
    "\n",
    "**Project Name:** Visa Jobs NL\n",
    "\n",
    "**Description:** Notebook to create Silver and Gold database schemas pointing to mounted Azure Data Lake Storage locations.  \n",
    "This enables organized storage and querying of cleaned (silver) and aggregated/enriched (gold) job listing data related to visa sponsorship opportunities in the Netherlands.\n",
    "\n",
    "**Author(s):**  \n",
    "+ Daniel Willians <daniel.wis@outlook.com>\n",
    "\n",
    "**Start Date (YYYY-MM-DD):** 2025-05-28\n",
    "\n",
    "**Version:** 1.0.0\n"
   ]
  },
  {
   "cell_type": "code",
   "execution_count": 0,
   "metadata": {
    "application/vnd.databricks.v1+cell": {
     "cellMetadata": {
      "byteLimit": 2048000,
      "rowLimit": 10000
     },
     "inputWidgets": {},
     "nuid": "e22d1bbf-86f5-449b-94ef-5c64778244e4",
     "showTitle": false,
     "tableResultSettingsMap": {},
     "title": ""
    }
   },
   "outputs": [],
   "source": [
    "# Defina o mount point base\n",
    "mount_point = \"/mnt/netherlands-tracker\""
   ]
  },
  {
   "cell_type": "code",
   "execution_count": 0,
   "metadata": {
    "application/vnd.databricks.v1+cell": {
     "cellMetadata": {
      "byteLimit": 2048000,
      "rowLimit": 10000
     },
     "inputWidgets": {},
     "nuid": "99939f6a-aefe-4df7-ba24-a5caeb10c725",
     "showTitle": false,
     "tableResultSettingsMap": {},
     "title": ""
    }
   },
   "outputs": [],
   "source": [
    "# Criação dos schemas Silver e Gold usando o mount_point variável\n",
    "spark.sql(f\"\"\"\n",
    "CREATE DATABASE IF NOT EXISTS visa_jobs_silver\n",
    "LOCATION '{mount_point}/silver'\n",
    "\"\"\")\n",
    "\n",
    "spark.sql(f\"\"\"\n",
    "CREATE DATABASE IF NOT EXISTS visa_jobs_gold\n",
    "LOCATION '{mount_point}/gold'\n",
    "\"\"\")\n",
    "\n",
    "print(f\"Schemas 'visa_jobs_silver' e 'visa_jobs_gold' criados com sucesso nos paths:\\n{mount_point}/silver\\n{mount_point}/gold\")"
   ]
  }
 ],
 "metadata": {
  "application/vnd.databricks.v1+notebook": {
   "computePreferences": null,
   "dashboards": [],
   "environmentMetadata": {
    "base_environment": "",
    "environment_version": "2"
   },
   "inputWidgetPreferences": null,
   "language": "python",
   "notebookMetadata": {
    "mostRecentlyExecutedCommandWithImplicitDF": {
     "commandId": 7567108878580847,
     "dataframes": [
      "_sqldf"
     ]
    },
    "pythonIndentUnit": 4
   },
   "notebookName": "create_databases",
   "widgets": {}
  },
  "language_info": {
   "name": "python"
  }
 },
 "nbformat": 4,
 "nbformat_minor": 0
}
